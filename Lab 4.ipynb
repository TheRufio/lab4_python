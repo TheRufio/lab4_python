{
 "cells": [
  {
   "cell_type": "markdown",
   "id": "a96d192e",
   "metadata": {},
   "source": [
    "#  Лабораторна робота № 4\n",
    "# Основи роботи з бібліотекою NumPy\n",
    "# *Мета роботи: отримати базові знання та навички по роботі з бібліотекою NumPy*\n",
    "# Уманський Андрій КН-221д"
   ]
  },
  {
   "cell_type": "code",
   "execution_count": 14,
   "id": "c38588dd",
   "metadata": {},
   "outputs": [
    {
     "name": "stdout",
     "output_type": "stream",
     "text": [
      "6\n"
     ]
    }
   ],
   "source": [
    "N = ord('A') % 15 + 1\n",
    "print(N)"
   ]
  },
  {
   "cell_type": "code",
   "execution_count": 130,
   "id": "a62825ad",
   "metadata": {
    "scrolled": false
   },
   "outputs": [
    {
     "data": {
      "text/plain": [
       "array([1, 2, 1, 2, 1, 2, 1, 2, 1, 2])"
      ]
     },
     "execution_count": 130,
     "metadata": {},
     "output_type": "execute_result"
    }
   ],
   "source": [
    "# import numpy as np\n",
    "\n",
    "# array1 = np.array([[1,2,3],[4,5,6]], dtype ='float')\n",
    "\n",
    "# np.zeros((3,5),dtype=\"int\") # матриця нулів\n",
    "# np.eye(5) # одинична матриця\n",
    "# np.full((3,3),228) # матриця 3х5 де всі 228\n",
    "# np.arange(0, 20, 2) \n",
    "# np.linspace(0, 1, 6) # поділ діапазону на 6 частин\n",
    "# np.random.random((3, 3)) # rnd\n",
    "# np.random.normal(0, 1, (3,3))\n",
    "# np.random.randint(0, 10, (3,3))\n",
    "# np.empty(6)\n",
    "# x = np.array([1,2])\n",
    "# y = np.diag(x)\n",
    "# c = np.diag(y)\n",
    "# #print(f\"{y}\\n\\n{c}\") # з 1вим в 2вим і навпаки (діагональ)\n",
    "# np.array([1,2] * 5) #повторювання\n",
    "\n",
    "# arr[:, ::2] = 1"
   ]
  },
  {
   "cell_type": "markdown",
   "id": "13903f63",
   "metadata": {},
   "source": [
    "# Завдання 1"
   ]
  },
  {
   "cell_type": "code",
   "execution_count": 1,
   "id": "31ee4262",
   "metadata": {
    "scrolled": true
   },
   "outputs": [],
   "source": [
    "# Завдання 1 \n",
    "# Вправа 1\n",
    "import numpy as np\n",
    "\n",
    "def sup(n):\n",
    "    x = [i+1 for i in range(n)]\n",
    "    return x\n",
    "\n",
    "def ex_1_1():\n",
    "    n = int(input(\"Введіть значення n = \"))\n",
    "    x = np.array(sup(n))\n",
    "    return np.diag(x)\n",
    "#     print(np.diag(x),\"\\n\\n\")\n",
    "\n",
    "\n",
    "def ex_1_2():\n",
    "    n = int(input(\"Введіть значення n = \"))\n",
    "    x = sup(n)\n",
    "    my_list = []\n",
    "    for i in range(n):\n",
    "        list1 = []\n",
    "        for j in range(n):\n",
    "            if i == j:\n",
    "                list1.append(x[j])\n",
    "            else:\n",
    "                list1.append(0)\n",
    "        my_list.append(list1)\n",
    "    return my_list\n",
    "#     for i in my_list:\n",
    "#         print(i)\n",
    "\n",
    "        "
   ]
  },
  {
   "cell_type": "code",
   "execution_count": 2,
   "id": "c083a29d",
   "metadata": {
    "scrolled": true
   },
   "outputs": [
    {
     "name": "stdout",
     "output_type": "stream",
     "text": [
      "Введіть значення n = 4\n",
      "[[1 0 0 0]\n",
      " [0 2 0 0]\n",
      " [0 0 3 0]\n",
      " [0 0 0 4]]\n",
      "time = 3.499243974685669\n"
     ]
    }
   ],
   "source": [
    "import time\n",
    "start = time.time()\n",
    "print(ex_1_1())\n",
    "end = time.time() - start\n",
    "print(f\"time = {end}\")"
   ]
  },
  {
   "cell_type": "code",
   "execution_count": 4,
   "id": "0274b0c6",
   "metadata": {},
   "outputs": [
    {
     "name": "stdout",
     "output_type": "stream",
     "text": [
      "Введіть значення n = 4\n",
      "[1, 0, 0, 0]\n",
      "[0, 2, 0, 0]\n",
      "[0, 0, 3, 0]\n",
      "[0, 0, 0, 4]\n",
      "time = 0.7737970352172852\n"
     ]
    }
   ],
   "source": [
    "start = time.time()\n",
    "for i in ex_1_2():\n",
    "    print(i)\n",
    "end = time.time() - start\n",
    "print(f\"time = {end}\")"
   ]
  },
  {
   "cell_type": "code",
   "execution_count": 53,
   "id": "bb174ab0",
   "metadata": {},
   "outputs": [],
   "source": [
    "# Завдання 1\n",
    "# Вправа 3\n",
    "import numpy as np\n",
    "\n",
    "def ex_3_1():\n",
    "    n=int(input(\"n = \"))\n",
    "    m=int(input(\"m = \"))\n",
    "    r=int(input(\"r = \"))\n",
    "    c=int(input(\"c = \"))\n",
    "    my_list=[]\n",
    "    for i in range(n):\n",
    "        list1=[]\n",
    "        for j in range(m):\n",
    "            if j%c==0 or i%r==0:\n",
    "                list1.append(0)\n",
    "            else:\n",
    "                list1.append(1)\n",
    "        my_list.append(list1)\n",
    "    return my_list\n",
    "\n",
    "def ex_3_2():\n",
    "    n=int(input(\"n = \"))\n",
    "    m=int(input(\"m = \"))\n",
    "    r=int(input(\"r = \"))\n",
    "    c=int(input(\"c = \"))\n",
    "    array = np.ones((n,m))\n",
    "    array[::r,:] = 0\n",
    "    array[:,::c] = 0\n",
    "    return array"
   ]
  },
  {
   "cell_type": "code",
   "execution_count": 54,
   "id": "e2b91ae7",
   "metadata": {},
   "outputs": [
    {
     "name": "stdout",
     "output_type": "stream",
     "text": [
      "n = 5\n",
      "m = 5\n",
      "r = 2\n",
      "c = 3\n",
      "[0, 0, 0, 0, 0]\n",
      "[0, 1, 1, 0, 1]\n",
      "[0, 0, 0, 0, 0]\n",
      "[0, 1, 1, 0, 1]\n",
      "[0, 0, 0, 0, 0]\n"
     ]
    }
   ],
   "source": [
    "for i in ex_3_1():\n",
    "    print(i)"
   ]
  },
  {
   "cell_type": "code",
   "execution_count": 27,
   "id": "c7c718f4",
   "metadata": {},
   "outputs": [
    {
     "name": "stdout",
     "output_type": "stream",
     "text": [
      "n = 5\n",
      "m = 5\n",
      "r = 2\n",
      "c = 2\n"
     ]
    },
    {
     "data": {
      "text/plain": [
       "array([[0., 0., 0., 0., 0.],\n",
       "       [0., 1., 0., 1., 0.],\n",
       "       [0., 0., 0., 0., 0.],\n",
       "       [0., 1., 0., 1., 0.],\n",
       "       [0., 0., 0., 0., 0.]])"
      ]
     },
     "execution_count": 27,
     "metadata": {},
     "output_type": "execute_result"
    }
   ],
   "source": [
    "ex_3_2()"
   ]
  },
  {
   "cell_type": "code",
   "execution_count": 5,
   "id": "ddc82d72",
   "metadata": {},
   "outputs": [],
   "source": [
    "# Задвання 1\n",
    "# Вправа 6\n",
    "import numpy as np\n",
    "def ex_6_1():\n",
    "    size = int(input(\"Введіть розмір масива = \"))\n",
    "    my_list=[]\n",
    "    for i in range(size):\n",
    "        x = int(input())\n",
    "        if x==0:\n",
    "            my_list.append(0)\n",
    "        else:\n",
    "            my_list.append(-1)\n",
    "    return my_list\n",
    "\n",
    "def ex_6_2():\n",
    "    size = int(input(\"Введіть розмір масива = \"))\n",
    "    my_list=[]\n",
    "    for i in range(size):\n",
    "        my_list.append(int(input()))\n",
    "    array = np.array(my_list)\n",
    "    return np.where(array!=0,-1,array)\n",
    "    #np.where()"
   ]
  },
  {
   "cell_type": "code",
   "execution_count": 6,
   "id": "247f79f0",
   "metadata": {},
   "outputs": [
    {
     "name": "stdout",
     "output_type": "stream",
     "text": [
      "Введіть розмір масива = 3\n",
      "1\n",
      "0\n",
      "3\n",
      "[-1, 0, -1]\n",
      "time = 3.918700933456421\n"
     ]
    }
   ],
   "source": [
    "import time\n",
    "start = time.time()\n",
    "print(ex_6_1())\n",
    "end = time.time() - start\n",
    "print(f\"time = {end}\")"
   ]
  },
  {
   "cell_type": "code",
   "execution_count": 22,
   "id": "f808632f",
   "metadata": {
    "scrolled": true
   },
   "outputs": [
    {
     "name": "stdout",
     "output_type": "stream",
     "text": [
      "Введіть розмір масива = 2\n",
      "2\n",
      "2\n",
      "[-1 -1]\n",
      "1.3489902019500732\n"
     ]
    }
   ],
   "source": [
    "import time\n",
    "start = time.time()\n",
    "print(ex_6_2())\n",
    "end = time.time() - start\n",
    "print(f\"time = {end}\")"
   ]
  },
  {
   "cell_type": "code",
   "execution_count": 7,
   "id": "643011b0",
   "metadata": {},
   "outputs": [],
   "source": [
    "# Завдання 1\n",
    "# Вправа 4\n",
    "import numpy as np\n",
    "\n",
    "def ex_4_1():\n",
    "    n =int(input(\"n = \"))\n",
    "    m =int(input(\"m = \"))\n",
    "    my_list=[]\n",
    "    for i in range(n):\n",
    "        list1=[]\n",
    "        for j in range(m):\n",
    "            if i!=0:\n",
    "                list1.append(0)\n",
    "            else:\n",
    "                list1.append(j)\n",
    "        my_list.append(list1)\n",
    "    return my_list\n",
    "\n",
    "def ex_4_2():\n",
    "    n = int(input(\"n = \"))\n",
    "    m = int(input(\"m = \"))\n",
    "    array = np.arange(0,n*m,1)\n",
    "    array[array>m-1] = 0\n",
    "    return array.reshape(n,m)"
   ]
  },
  {
   "cell_type": "code",
   "execution_count": 8,
   "id": "c8febaf1",
   "metadata": {},
   "outputs": [
    {
     "name": "stdout",
     "output_type": "stream",
     "text": [
      "n = 4\n",
      "m = 4\n",
      "[0, 1, 2, 3]\n",
      "[0, 0, 0, 0]\n",
      "[0, 0, 0, 0]\n",
      "[0, 0, 0, 0]\n",
      "time = 2.274533748626709\n"
     ]
    }
   ],
   "source": [
    "import time as t\n",
    "start = t.time()\n",
    "for i in ex_4_1():\n",
    "    print(i)\n",
    "end = t.time() - start\n",
    "print(f\"time = {end}\")"
   ]
  },
  {
   "cell_type": "code",
   "execution_count": 22,
   "id": "ad9e8ac7",
   "metadata": {},
   "outputs": [
    {
     "name": "stdout",
     "output_type": "stream",
     "text": [
      "n = 3\n",
      "m = 3\n",
      "[[0 1 2]\n",
      " [0 0 0]\n",
      " [0 0 0]]\n",
      "time = 1.4717495441436768\n"
     ]
    }
   ],
   "source": [
    "import time as t\n",
    "start = t.time()\n",
    "print(ex_4_2())\n",
    "end = t.time() - start\n",
    "print(f\"time = {end}\")"
   ]
  },
  {
   "cell_type": "code",
   "execution_count": 10,
   "id": "28f79304",
   "metadata": {},
   "outputs": [],
   "source": [
    "# Завдання 1\n",
    "# Вправа 10\n",
    "import random as rnd\n",
    "from math import sqrt\n",
    "import numpy as np\n",
    "\n",
    "def ex_10_1():\n",
    "    n = int(input(\"n = \"))\n",
    "    m = int(input(\"m = \"))\n",
    "    my_list=[];up = 0\n",
    "    for i in range(n):\n",
    "        for j in range(m):\n",
    "            my_list.append(round(rnd.random(),3)) \n",
    "            \n",
    "    my_list_min = min(my_list)\n",
    "    my_list_max = max(my_list)\n",
    "    my_list_average = round((sum(my_list))/(n*m),3)\n",
    "    for i in my_list:\n",
    "        up += (i-my_list_average)**2\n",
    "    my_list_disp = round(math.sqrt(up/(n*m)),3)\n",
    "        \n",
    "    return f\"min = {my_list_min}\\nmax = {my_list_max}\\naverage = {my_list_average}\\ndisp = {my_list_disp}\"\n",
    "\n",
    "def ex_10_2():\n",
    "    n = int(input(\"n = \"))\n",
    "    m = int(input(\"m = \"))\n",
    "    array = np.random.random(size=(n,m))\n",
    "    array = np.round(array,3)\n",
    "    array_max = array.max()\n",
    "    array_min = array.min()\n",
    "    array_average = round(np.average(array),3)\n",
    "    array_disp = round(np.std(array),3)\n",
    "    return f\"min = {array_min}\\nmax = {array_max}\\naverage = {array_average}\\ndisp = {array_disp}\""
   ]
  },
  {
   "cell_type": "code",
   "execution_count": 151,
   "id": "725e08fe",
   "metadata": {
    "scrolled": true
   },
   "outputs": [
    {
     "name": "stdout",
     "output_type": "stream",
     "text": [
      "n = 3\n",
      "m = 3\n",
      "min = 0.105\n",
      "max = 0.967\n",
      "average = 0.584\n",
      "disp = 0.317\n",
      "1.6249728202819824\n"
     ]
    }
   ],
   "source": [
    "import time\n",
    "start = time.time()\n",
    "print(ex_10_1())\n",
    "end = time.time() - start\n",
    "print(f\"time = {end}\")"
   ]
  },
  {
   "cell_type": "code",
   "execution_count": 11,
   "id": "24e63640",
   "metadata": {},
   "outputs": [
    {
     "name": "stdout",
     "output_type": "stream",
     "text": [
      "n = 3\n",
      "m = 3\n",
      "min = 0.049\n",
      "max = 0.914\n",
      "average = 0.388\n",
      "disp = 0.315\n",
      "time = 0.9660851955413818\n"
     ]
    }
   ],
   "source": [
    "import time\n",
    "start = time.time()\n",
    "print(ex_10_2())\n",
    "end = time.time() - start\n",
    "print(f\"time = {end}\")"
   ]
  },
  {
   "cell_type": "code",
   "execution_count": 23,
   "id": "5d83ce42",
   "metadata": {},
   "outputs": [],
   "source": [
    "# Завдання 1\n",
    "# Впарва 12\n",
    "import numpy as np\n",
    "\n",
    "def ex_12_1():\n",
    "    n = int(input(\"n = \"))\n",
    "    my_list=[]\n",
    "    for i in range(n):\n",
    "        list1=[]\n",
    "        for j in range(n):\n",
    "            if i==0 or i==n-1 or j==0 or j==n-1:\n",
    "                list1.append(0)\n",
    "            else:\n",
    "                list1.append(1)\n",
    "        my_list.append(list1)\n",
    "    return my_list\n",
    "\n",
    "def ex_12_2():\n",
    "    n = int(input())\n",
    "    array = np.ones((n,n),dtype=float)\n",
    "    array[0, :] = 0\n",
    "    array[(n-1), :] = 0\n",
    "    array[:, 0] = 0\n",
    "    array[:, (n-1)] = 0\n",
    "    return array"
   ]
  },
  {
   "cell_type": "code",
   "execution_count": 30,
   "id": "ff0ce7d1",
   "metadata": {},
   "outputs": [
    {
     "name": "stdout",
     "output_type": "stream",
     "text": [
      "n = 5\n",
      "[0, 0, 0, 0, 0]\n",
      "[0, 1, 1, 1, 0]\n",
      "[0, 1, 1, 1, 0]\n",
      "[0, 1, 1, 1, 0]\n",
      "[0, 0, 0, 0, 0]\n",
      "1.1903421878814697\n"
     ]
    }
   ],
   "source": [
    "import time as tm\n",
    "start = tm.time()\n",
    "for i in ex_12_1():\n",
    "    print(i)\n",
    "end = tm.time() - start\n",
    "print(end)"
   ]
  },
  {
   "cell_type": "code",
   "execution_count": 31,
   "id": "a7abc5a5",
   "metadata": {},
   "outputs": [
    {
     "name": "stdout",
     "output_type": "stream",
     "text": [
      "5\n",
      "[[0. 0. 0. 0. 0.]\n",
      " [0. 1. 1. 1. 0.]\n",
      " [0. 1. 1. 1. 0.]\n",
      " [0. 1. 1. 1. 0.]\n",
      " [0. 0. 0. 0. 0.]]\n",
      "0.45606422424316406\n"
     ]
    }
   ],
   "source": [
    "import time as tm\n",
    "start = tm.time()\n",
    "print(ex_12_2())\n",
    "end = tm.time() - start\n",
    "print(end)"
   ]
  },
  {
   "cell_type": "code",
   "execution_count": 168,
   "id": "c77cafae",
   "metadata": {},
   "outputs": [],
   "source": [
    "# Завдання 1\n",
    "# Вправа 15\n",
    "import numpy as np\n",
    "\n",
    "def ex_15_1():\n",
    "    n = int(input())\n",
    "    my_list=[]\n",
    "    for i in range(n):\n",
    "        list1=[]\n",
    "        for j in range(n):\n",
    "            if j%2:\n",
    "                list1.append(1)\n",
    "            else:\n",
    "                list1.append(0)\n",
    "        my_list.append(list1)\n",
    "    return my_list\n",
    "\n",
    "def ex_15_2():\n",
    "    n = int(input())\n",
    "#     arr = np.full((n,n), 1)\n",
    "#     arr[:, ::2] = 0\n",
    "#     return arr\n",
    "\n",
    "    one = [i for i in range(n) if i%2]\n",
    "    two = [i for i in range(n) if i%2==0]\n",
    "    array = np.arange(1,(n*n)+1).reshape(n,n)\n",
    "    array[: ,one] = 1\n",
    "    array[: ,two] = 0\n",
    "    return array"
   ]
  },
  {
   "cell_type": "code",
   "execution_count": 166,
   "id": "6cd20d7b",
   "metadata": {
    "scrolled": true
   },
   "outputs": [
    {
     "name": "stdout",
     "output_type": "stream",
     "text": [
      "5\n",
      "[0, 1, 0, 1, 0]\n",
      "[0, 1, 0, 1, 0]\n",
      "[0, 1, 0, 1, 0]\n",
      "[0, 1, 0, 1, 0]\n",
      "[0, 1, 0, 1, 0]\n",
      "0.5119497776031494\n"
     ]
    }
   ],
   "source": [
    "import time as tm\n",
    "start = tm.time()\n",
    "for i in ex_15_1():\n",
    "    print(i)\n",
    "end = tm.time() - start\n",
    "print(end)"
   ]
  },
  {
   "cell_type": "code",
   "execution_count": 169,
   "id": "77495f88",
   "metadata": {},
   "outputs": [
    {
     "name": "stdout",
     "output_type": "stream",
     "text": [
      "5\n",
      "[[0 1 0 1 0]\n",
      " [0 1 0 1 0]\n",
      " [0 1 0 1 0]\n",
      " [0 1 0 1 0]\n",
      " [0 1 0 1 0]]\n",
      "0.48491668701171875\n"
     ]
    }
   ],
   "source": [
    "import time as tm\n",
    "start = tm.time()\n",
    "print(ex_15_2())\n",
    "end = tm.time() - start\n",
    "print(end)"
   ]
  },
  {
   "cell_type": "code",
   "execution_count": 15,
   "id": "1d2cfbc8",
   "metadata": {},
   "outputs": [],
   "source": [
    "# Завдання 1\n",
    "# Вправа 17\n",
    "import numpy as np\n",
    "\n",
    "def ex_17_1():\n",
    "    n = int(input())\n",
    "    my_list=[]\n",
    "    for i in range(0,n+1,1):\n",
    "        my_list.append(i)\n",
    "    \n",
    "    for i in range(n+1):\n",
    "        if my_list[i] < n/2 or my_list[i] > (3*n)/4:\n",
    "            my_list[i] = -my_list[i]\n",
    "\n",
    "    return my_list\n",
    "\n",
    "def ex_17_2():\n",
    "    n = int(input())\n",
    "    array = np.arange(0,n+1,1)\n",
    "    array[(array < n/2) | (array > (3*n)/4)] *= -1\n",
    "    return array"
   ]
  },
  {
   "cell_type": "code",
   "execution_count": 16,
   "id": "d2ac9fbf",
   "metadata": {},
   "outputs": [
    {
     "name": "stdout",
     "output_type": "stream",
     "text": [
      "10\n"
     ]
    },
    {
     "data": {
      "text/plain": [
       "[0, -1, -2, -3, -4, 5, 6, 7, -8, -9, -10]"
      ]
     },
     "execution_count": 16,
     "metadata": {},
     "output_type": "execute_result"
    }
   ],
   "source": [
    "ex_17_1()"
   ]
  },
  {
   "cell_type": "code",
   "execution_count": 14,
   "id": "d7363c1d",
   "metadata": {},
   "outputs": [
    {
     "name": "stdout",
     "output_type": "stream",
     "text": [
      "10\n"
     ]
    },
    {
     "data": {
      "text/plain": [
       "array([  0,  -1,  -2,  -3,  -4,   5,   6,   7,  -8,  -9, -10])"
      ]
     },
     "execution_count": 14,
     "metadata": {},
     "output_type": "execute_result"
    }
   ],
   "source": [
    "ex_17_2()"
   ]
  },
  {
   "cell_type": "code",
   "execution_count": 62,
   "id": "6f8d6dfd",
   "metadata": {},
   "outputs": [],
   "source": [
    "# Завдання 1\n",
    "# Вправа 18\n",
    "import random as rnd\n",
    "import numpy as np\n",
    "\n",
    "def ex_18_1():\n",
    "    n = int(input())\n",
    "    rnd_list = [rnd.randint(0,99) for el in range(n)]\n",
    "    \n",
    "    dict_ = {}\n",
    "    for i in rnd_list:\n",
    "        if i in dict_:\n",
    "            dict_[i] += 1\n",
    "        else:\n",
    "            dict_[i] = 1\n",
    "            \n",
    "    for k,v in dict_.items():\n",
    "        print(f\"{k} : {v}\")\n",
    "    \n",
    "    counter = 0\n",
    "    for i in dict_.values():\n",
    "        if i==1:\n",
    "            counter+=1\n",
    "    return counter\n",
    "\n",
    "def ex_18_2():\n",
    "    n = int(input())\n",
    "    array = np.random.randint(0,99,size=(n))\n",
    "    uniq = len(np.unique(array))\n",
    "    return array, uniq"
   ]
  },
  {
   "cell_type": "code",
   "execution_count": 63,
   "id": "15c5115a",
   "metadata": {},
   "outputs": [
    {
     "name": "stdout",
     "output_type": "stream",
     "text": [
      "15\n",
      "7 : 1\n",
      "80 : 1\n",
      "5 : 1\n",
      "15 : 1\n",
      "57 : 1\n",
      "25 : 1\n",
      "26 : 2\n",
      "24 : 1\n",
      "59 : 1\n",
      "47 : 1\n",
      "21 : 1\n",
      "6 : 1\n",
      "51 : 1\n",
      "88 : 1\n",
      "13\n",
      "0.8607661724090576\n"
     ]
    }
   ],
   "source": [
    "#### import time as t\n",
    "start = t.time()\n",
    "print(ex_18_1())\n",
    "end = t.time() - start\n",
    "print(end)"
   ]
  },
  {
   "cell_type": "code",
   "execution_count": 29,
   "id": "274eb2c4",
   "metadata": {},
   "outputs": [
    {
     "name": "stdout",
     "output_type": "stream",
     "text": [
      "10\n",
      "(array([83, 28, 74, 74, 43,  7, 40, 97, 70, 91]), 9)\n",
      "1.3084979057312012\n"
     ]
    }
   ],
   "source": [
    "import time as t\n",
    "start = t.time()\n",
    "print(ex_18_2())\n",
    "end = t.time() - start\n",
    "print(end)"
   ]
  },
  {
   "cell_type": "markdown",
   "id": "88712f55",
   "metadata": {},
   "source": [
    "# Завдання 2"
   ]
  },
  {
   "cell_type": "code",
   "execution_count": 2,
   "id": "50f45357",
   "metadata": {},
   "outputs": [
    {
     "name": "stdout",
     "output_type": "stream",
     "text": [
      "[[ 1  5  3 -4]\n",
      " [ 3  1 -2  0]\n",
      " [ 5 -7  0 10]\n",
      " [ 0  3 -5  0]] \n",
      "\n",
      "\n",
      "determ = -630.0\n",
      "\n",
      "[[20  5  3 -4]\n",
      " [ 9  1 -2  0]\n",
      " [-9 -7  0 10]\n",
      " [ 1  3 -5  0]]\n",
      "\n",
      "[[ 1 20  3 -4]\n",
      " [ 3  9 -2  0]\n",
      " [ 5 -9  0 10]\n",
      " [ 0  1 -5  0]]\n",
      "\n",
      "[[ 1  5 20 -4]\n",
      " [ 3  1  9  0]\n",
      " [ 5 -7 -9 10]\n",
      " [ 0  3  1  0]]\n",
      "\n",
      "[[ 1  5  3 20]\n",
      " [ 3  1 -2  9]\n",
      " [ 5 -7  0 -9]\n",
      " [ 0  3 -5  1]]\n",
      "\n",
      "\n",
      "Kramer = [ 3.  2.  1. -1.]\n",
      "True\n",
      "True\n",
      "True\n"
     ]
    }
   ],
   "source": [
    "import numpy as np\n",
    "a = np.array([[1,5,3,-4],[3,1,-2,0],[5,-7,0,10],[0,3,-5,0]])\n",
    "b = np.array([20,9,-9,1])\n",
    "\n",
    "determ = np.linalg.det(a)\n",
    "\n",
    "a_1 = (np.column_stack((b, a[:, 1:])))\n",
    "a_2 = (np.column_stack((a[:, 0],b, a[:, 2:])))\n",
    "a_3 = (np.column_stack((a[:, :2],b, a[:, 3:])))\n",
    "a_4 = (np.column_stack((a[:, :3],b, a[:, 4:])))\n",
    "\n",
    "x_1 = np.linalg.det(a_1)/determ \n",
    "x_2 = np.linalg.det(a_2)/determ\n",
    "x_3 = np.linalg.det(a_3)/determ\n",
    "x_4 = np.linalg.det(a_4)/determ\n",
    "\n",
    "kramer_answer = np.array([x_1,x_2,x_3,x_4])\n",
    "\n",
    "a_answer = np.dot(a, kramer_answer)\n",
    "b_answer = np.dot(np.linalg.inv(a),b)\n",
    "c_answer = np.linalg.solve(a,b)\n",
    "\n",
    "print(f\"{a} \\n\\n\\ndeterm = {determ.round(2)}\\n\")\n",
    "print(f\"{a_1}\\n\\n{a_2}\\n\\n{a_3}\\n\\n{a_4}\\n\\n\")\n",
    "print(f\"Kramer = {kramer_answer}\")\n",
    "\n",
    "print(np.allclose(a_answer, b))\n",
    "print(np.allclose(b_answer, kramer_answer))\n",
    "print(np.allclose(c_answer, kramer_answer))"
   ]
  },
  {
   "cell_type": "markdown",
   "id": "d02cfeff",
   "metadata": {},
   "source": [
    "# Завдання 3"
   ]
  },
  {
   "cell_type": "code",
   "execution_count": 17,
   "id": "8ffc1d61",
   "metadata": {},
   "outputs": [
    {
     "name": "stdout",
     "output_type": "stream",
     "text": [
      "A:\n",
      "[[ 5  2  0]\n",
      " [10  4  1]\n",
      " [ 7  3  2]]\n",
      "\n",
      "B:\n",
      "[[ 3  6 -1]\n",
      " [-1 -2  0]\n",
      " [ 2  1  3]]\n",
      "\n",
      "\n",
      "[[ -52 -340    1]\n",
      " [ 171    0    2]\n",
      " [  48   14  -49]]\n"
     ]
    }
   ],
   "source": [
    "import numpy as np\n",
    "A = np.array([[5,2,0],[10,4,1],[7,3,2]])\n",
    "B = np.array([[3,6,-1],[-1,-2,0],[2,1,3]])\n",
    "print(f\"A:\\n{A}\\n\\nB:\\n{B}\\n\\n\")\n",
    "end = (A - (B**2)) * (2*A+B)\n",
    "print(end)"
   ]
  },
  {
   "cell_type": "markdown",
   "id": "b26e6b2b",
   "metadata": {},
   "source": [
    "https://github.com/TheRufio/lab4_python"
   ]
  },
  {
   "cell_type": "code",
   "execution_count": null,
   "id": "3eda875d",
   "metadata": {},
   "outputs": [],
   "source": []
  }
 ],
 "metadata": {
  "kernelspec": {
   "display_name": "Python 3 (ipykernel)",
   "language": "python",
   "name": "python3"
  },
  "language_info": {
   "codemirror_mode": {
    "name": "ipython",
    "version": 3
   },
   "file_extension": ".py",
   "mimetype": "text/x-python",
   "name": "python",
   "nbconvert_exporter": "python",
   "pygments_lexer": "ipython3",
   "version": "3.11.3"
  }
 },
 "nbformat": 4,
 "nbformat_minor": 5
}
